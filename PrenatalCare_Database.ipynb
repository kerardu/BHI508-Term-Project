{
 "cells": [
  {
   "cell_type": "code",
   "execution_count": 1,
   "id": "685584a6-8d28-4bf2-9bc9-4d520c396630",
   "metadata": {},
   "outputs": [],
   "source": [
    "import sqlite3\n",
    "\n",
    "# Create connector object\n",
    "conn = sqlite3.connect('PrenatalCare.db')\n",
    "\n",
    "# Create cursor object\n",
    "cur = conn.cursor()"
   ]
  },
  {
   "cell_type": "code",
   "execution_count": 2,
   "id": "3267744c-e983-4b56-b317-4b856cca771b",
   "metadata": {},
   "outputs": [],
   "source": [
    "# Drop table if patient table exist\n",
    "\n",
    "cur.execute(\"DROP TABLE IF EXISTS patient\")\n",
    "conn.commit()\n",
    "\n",
    "# Create patient table with constraints\n",
    "\n",
    "cur.execute(\"\"\"\n",
    "    CREATE TABLE patient (\n",
    "        ptID INT PRIMARY KEY,\n",
    "        firstName VARCHAR(15) NOT NULL,\n",
    "        lastName VARCHAR(15) NOT NULL,\n",
    "        address VARCHAR(20) NOT NULL,\n",
    "        birthDate DATE NOT NULL,\n",
    "        sex CHAR NOT NULL CHECK(sex IN ('M','F')),\n",
    "        contactNo INT NOT NULL,\n",
    "        email VARCHAR(20) NOT NULL\n",
    "    );\n",
    "\"\"\")\n",
    "\n",
    "sample_data = [\n",
    "    (1, 'John', 'Doe', '123 Main St', '1990-05-15', 'M', 1234567890, 'john@example.com'),\n",
    "    (2, 'Jane', 'Smith', '456 Elm St', '1985-08-22', 'F', 9876543210, 'jane@example.com'),\n",
    "    (3, 'Mike', 'Johnson', '789 Oak Ave', '1978-12-10', 'M', 5553339999, 'mike@example.com'),\n",
    "    (4, 'Emily', 'Brown', '321 Pine St', '1995-03-28', 'F', 7778889999, 'emily@example.com'),\n",
    "    (5, 'David', 'Lee', '567 Maple St', '1982-09-17', 'M', 1112223333, 'david@example.com'),\n",
    "    (6, 'Sarah', 'Garcia', '890 Cedar St', '1998-11-05', 'F', 4445556666, 'sarah@example.com'),\n",
    "    (7, 'Michael', 'Wang', '234 Birch St', '1975-07-03', 'M', 9998887777, 'michael@example.com'),\n",
    "    (8, 'Olivia', 'Nguyen', '876 Walnut St', '1989-04-20', 'F', 6667778888, 'olivia@example.com'),\n",
    "    (9, 'Ethan', 'Patel', '543 Spruce St', '1992-06-12', 'M', 2223334444, 'ethan@example.com'),\n",
    "    (10, 'Ava', 'Hernandez', '789 Cherry St', '1997-01-30', 'F', 3334445555, 'ava@example.com')\n",
    "]\n",
    "\n",
    "# Insert data into the table\n",
    "\n",
    "cur.executemany(\"\"\"\n",
    "    INSERT INTO patient (ptID, firstName, lastName, address, birthDate, sex, contactNo, email)\n",
    "    VALUES (?, ?, ?, ?, ?, ?, ?, ?);\n",
    "\"\"\", sample_data)\n",
    "\n",
    "conn.commit()"
   ]
  },
  {
   "cell_type": "code",
   "execution_count": 3,
   "id": "c60d4f11-d063-4439-8c56-9eda2dbeb534",
   "metadata": {},
   "outputs": [],
   "source": [
    "#Drop table if staff table exist\n",
    "\n",
    "cur.execute(\"DROP TABLE IF EXISTS staff\")\n",
    "conn.commit()\n",
    "\n",
    "# Create staff table with constraints\n",
    "\n",
    "cur.execute(\"\"\"\n",
    "    CREATE TABLE staff (\n",
    "        staffID INT PRIMARY KEY,\n",
    "        firstName VARCHAR(15) NOT NULL,\n",
    "        lastName VARCHAR(15) NOT NULL,\n",
    "        sex CHAR NOT NULL CHECK(sex IN ('M','F')),\n",
    "        jobTitle VARCHAR(20) NOT NULL CHECK(jobTitle IN ('Physician', 'Nurse', 'Medical Technologist', 'Social Worker', 'Pharmacist')),\n",
    "        dept VARCHAR(20) NOT NULL CHECK(dept IN ('OB-GYN', 'Pathology', 'Pharmacy', 'Admission')),\n",
    "        licenseNo INT NOT NULL\n",
    "    );\n",
    "\"\"\")\n",
    "\n",
    "# Insert data into the table\n",
    "\n",
    "cur.execute(\"\"\"\n",
    "    INSERT INTO staff (staffID, firstName, lastName, sex, jobTitle, dept, licenseNo)\n",
    "    VALUES\n",
    "        (1, 'Michael', 'Smith', 'M', 'Physician', 'OB-GYN', 12345),\n",
    "        (2, 'Emily', 'Johnson', 'F', 'Nurse', 'Admission', 54321),\n",
    "        (3, 'David', 'Williams', 'M', 'Medical Technologist', 'Pathology', 98765),\n",
    "        (4, 'Sophia', 'Brown', 'F', 'Social Worker', 'Admission', 67890),\n",
    "        (5, 'Oliver', 'Garcia', 'M', 'Pharmacist', 'Pharmacy', 45678),\n",
    "        (6, 'Ava', 'Martinez', 'F', 'Physician', 'OB-GYN', 23456),\n",
    "        (7, 'Ethan', 'Lee', 'M', 'Nurse', 'Admission', 78901),\n",
    "        (8, 'Isabella', 'Nguyen', 'F', 'Medical Technologist', 'Pathology', 87654),\n",
    "        (9, 'William', 'Rodriguez', 'M', 'Pharmacist', 'Pharmacy', 34567),\n",
    "        (10, 'Sophia', 'Kim', 'F', 'Social Worker', 'Admission', 89012);\n",
    "\"\"\")\n",
    "\n",
    "conn.commit()"
   ]
  },
  {
   "cell_type": "code",
   "execution_count": 4,
   "id": "2f8304ff-2818-47a3-b338-d72e88cf0070",
   "metadata": {},
   "outputs": [],
   "source": [
    "# Drop table if labRecord table exists\n",
    "\n",
    "cur.execute(\"DROP TABLE IF EXISTS labRecord\")\n",
    "conn.commit()\n",
    "\n",
    "# Create labRecord table with constraints\n",
    "\n",
    "cur.execute(\"\"\"\n",
    "    CREATE TABLE labRecord (\n",
    "        labNo INT PRIMARY KEY,\n",
    "        ptID INT NOT NULL,\n",
    "        staffID INT NOT NULL,\n",
    "        date DATE NOT NULL,\n",
    "        completeBloodCount NVARCHAR(100),\n",
    "        urinalysis NVARCHAR(100),\n",
    "        urineCulture NVARCHAR(100),\n",
    "        rubellaTest CHAR CHECK(rubellaTest IN ('Positive','Negative')),\n",
    "        hepatitisBTest CHAR CHECK(hepatitisBTest IN ('Positive','Negative')),\n",
    "        HIVtest CHAR CHECK(HIVtest IN ('Positive','Negative')),\n",
    "        STItest NVARCHAR(100),\n",
    "        papSmear NVARCHAR(100),\n",
    "        TBtest CHAR CHECK(TBtest IN ('Positive','Negative')),\n",
    "        ultrasound NVARCHAR(100),\n",
    "        maternalSerumScreeningTest NVARCHAR(100),\n",
    "        glucoseChallengeTest NVARCHAR(100),\n",
    "        groupBStrepTest CHECK(groupBStrepTest IN ('Positive','Negative')),\n",
    "        fetalMonitoring NVARCHAR(100)\n",
    "    );\n",
    "\"\"\")\n",
    "\n",
    "\n",
    "# Insert data into the table\n",
    "\n",
    "cur.execute(\"\"\"\n",
    "    INSERT INTO labRecord (labNo, ptID, staffID, date, completeBloodCount, urinalysis, urineCulture,\n",
    "                       rubellaTest, hepatitisBTest, HIVtest, STItest, papSmear, TBtest,\n",
    "                       ultrasound, maternalSerumScreeningTest, glucoseChallengeTest,\n",
    "                       groupBStrepTest, fetalMonitoring)\n",
    "    VALUES\n",
    "        (1, 2, 1, '2023-01-05', 'Normal', 'Normal', 'Negative', 'Negative', 'Negative',\n",
    "         'Negative', 'Not performed', 'Normal', 'Negative', 'Normal', 'Normal', 'Normal',\n",
    "         'Negative', 'Not performed'),\n",
    "\n",
    "        (2, 4, 5, '2023-02-10', 'Normal', 'Abnormal', 'Positive', 'Negative', 'Negative',\n",
    "         'Negative', 'Chlamydia', 'Normal', 'Negative', 'Abnormal', 'Normal', 'Abnormal',\n",
    "         'Negative', 'Not performed'),\n",
    "\n",
    "        (3, 6, 7, '2023-03-15', 'Normal', 'Normal', 'Negative', 'Negative', 'Negative',\n",
    "         'Negative', 'Not performed', 'Normal', 'Negative', 'Normal', 'Normal', 'Normal',\n",
    "         'Negative', 'Not performed'),\n",
    "\n",
    "        (4, 8, 9, '2023-04-20', 'Normal', 'Abnormal', 'Negative', 'Negative', 'Negative',\n",
    "         'Positive', 'Gonorrhea', 'Normal', 'Negative', 'Normal', 'Normal', 'Normal',\n",
    "         'Negative', 'Not performed'),\n",
    "\n",
    "        (5, 10, 2, '2023-05-25', 'Normal', 'Normal', 'Negative', 'Negative', 'Negative',\n",
    "         'Negative', 'Not performed', 'Normal', 'Negative', 'Normal', 'Normal', 'Normal',\n",
    "         'Negative', 'Not performed');\n",
    "\"\"\")\n",
    "\n",
    "conn.commit()"
   ]
  },
  {
   "cell_type": "code",
   "execution_count": 5,
   "id": "4967438c-7c4f-4892-afcb-c5cd4cace22f",
   "metadata": {},
   "outputs": [],
   "source": [
    "# Drop table if prenatalCareRecord table exists\n",
    "\n",
    "cur.execute(\"DROP TABLE IF EXISTS prenatalCareRecord\")\n",
    "conn.commit()\n",
    "\n",
    "# Create prenatalCareRecord table with constraints\n",
    "\n",
    "cur.execute(\"\"\"\n",
    "    CREATE TABLE prenatalCareRecord (\n",
    "        checkUpNo INT PRIMARY KEY,\n",
    "        ptID INT NOT NULL,\n",
    "        staffID INT NOT NULL,\n",
    "        date DATE NOT NULL,\n",
    "        subjInfo NVARCHAR(100) NOT NULL,\n",
    "        objInfo NVARCHAR(100) NOT NULL,\n",
    "        assessment NVARCHAR(100) NOT NULL,\n",
    "        plan NVARCHAR(100) NOT NULL\n",
    "    );\n",
    "\"\"\")\n",
    "\n",
    "# Insert data into the table\n",
    "\n",
    "cur.execute(\"\"\"\n",
    "    INSERT INTO prenatalCareRecord (checkUpNo, ptID, staffID, date, subjInfo, objInfo, assessment, plan)\n",
    "    VALUES\n",
    "    (1, 2, 1, '2023-01-10', '28 weeks pregnant, no complications reported.', 'BP: 120/80, weight: 140 lbs, FHR: 130 bpm, temperature: 98.6°F', 'Prenatal health normal, advised on nutrition and exercise.', 'Scheduled glucose tolerance test and prescribe prenatal vitamins. Refer to labNo 1, 4, and 5 for results. Recommend Ferrous Sulfate supplement.'),\n",
    "    (2, 4, 5, '2023-02-15', '32 weeks pregnant, complained of occasional nausea.', 'BP: 118/78, weight: 150 lbs, FHR: 135 bpm, temperature: 98.7°F', 'Mild morning sickness noted, recommended dietary changes.', 'Prescribe Ondansetron and schedule fetal movement monitoring. Start Nitrofurantoin tablet twice a day. Refer to labNo 2 for results.'),\n",
    "    (3, 6, 7, '2023-03-20', '35 weeks pregnant, reported swelling in ankles.', 'BP: 122/82, weight: 160 lbs, FHR: 132 bpm, temperature: 98.5°F', 'Edema observed, advised elevation and rest.', 'Order urinalysis and recommend compression stockings. Refer to labNo 3 for results. Advise Acetaminophen for discomfort.'),\n",
    "    (4, 8, 9, '2023-04-25', '38 weeks pregnant, experiencing lower back pain.', 'BP: 120/80, weight: 170 lbs, FHR: 128 bpm, temperature: 98.4°F', 'Back discomfort reported, suggested warm compresses.', 'Prescribe Prenatal Massage Oil and perform fetal non-stress test. Refer to labNo 4 for results.'),\n",
    "    (5, 10, 2, '2023-05-30', '40 weeks pregnant, no signs of labor.', 'BP: 118/78, weight: 180 lbs, FHR: 130 bpm, temperature: 98.8°F', 'Full-term pregnancy, discussed induction options.', 'Scheduled induction and order cervical ripening procedure. Refer to labNo 5 for results. Administer Misoprostol.');\n",
    "\"\"\")\n",
    "\n",
    "conn.commit()"
   ]
  },
  {
   "cell_type": "code",
   "execution_count": 6,
   "id": "4883ba04-f54a-436c-80d7-2dee2d01c319",
   "metadata": {},
   "outputs": [],
   "source": [
    "# Drop table if prescription table exists\n",
    "\n",
    "cur.execute(\"DROP TABLE IF EXISTS prescription\")\n",
    "conn.commit()\n",
    "\n",
    "# Create prescription table with constraints\n",
    "\n",
    "cur.execute(\"\"\"\n",
    "    CREATE TABLE prescription (\n",
    "        prescNo INT PRIMARY KEY,\n",
    "        ptID INT NOT NULL,\n",
    "        staffID NOT NULL,\n",
    "        date DATE NOT NULL,\n",
    "        drugList NVARCH(100) NOT NULL\n",
    "    );\n",
    "\"\"\")\n",
    "\n",
    "# Insert data into the table\n",
    "\n",
    "cur.execute(\"\"\"\n",
    "    INSERT INTO prescription (prescNo, ptID, staffID, date, drugList)\n",
    "    VALUES\n",
    "        (1, 2, 1, '2023-01-10', 'Ferrous Sulfate, Prenatal Vitamins'),\n",
    "        (2, 4, 5, '2023-02-15', 'Ondansetron, Nitrofurantoin'),\n",
    "        (3, 6, 7, '2023-03-20', 'Acetaminophen'),\n",
    "        (4, 8, 9, '2023-04-25', 'Prenatal Massage Oil'),\n",
    "        (5, 10, 2, '2023-05-30', 'Misoprostol');\n",
    "\"\"\")\n",
    "\n",
    "conn.commit()"
   ]
  },
  {
   "cell_type": "code",
   "execution_count": 7,
   "id": "b57f467b-bc57-45d2-8271-44c19d60180a",
   "metadata": {},
   "outputs": [],
   "source": [
    "### QUERIES"
   ]
  },
  {
   "cell_type": "code",
   "execution_count": 8,
   "id": "4d847fc9-cd72-4d86-91d3-ae3767f82ed5",
   "metadata": {},
   "outputs": [
    {
     "data": {
      "text/plain": [
       "[(5,)]"
      ]
     },
     "execution_count": 8,
     "metadata": {},
     "output_type": "execute_result"
    }
   ],
   "source": [
    "# Query 1: Extracting the total number of female patients in the database.\n",
    "res = cur.execute(\"\"\"\n",
    "    SELECT COUNT(*) AS NumFemalePatients\n",
    "    FROM patient\n",
    "    WHERE sex = 'F';\n",
    "\"\"\")\n",
    "res.fetchall()"
   ]
  },
  {
   "cell_type": "code",
   "execution_count": 9,
   "id": "1630eb30-0201-4ee9-9b7b-74ad0bff50a9",
   "metadata": {},
   "outputs": [
    {
     "data": {
      "text/plain": [
       "[(2, 'Jane', 'Smith', 9876543210, 'jane@example.com'),\n",
       " (4, 'Emily', 'Brown', 7778889999, 'emily@example.com'),\n",
       " (6, 'Sarah', 'Garcia', 4445556666, 'sarah@example.com'),\n",
       " (8, 'Olivia', 'Nguyen', 6667778888, 'olivia@example.com'),\n",
       " (10, 'Ava', 'Hernandez', 3334445555, 'ava@example.com')]"
      ]
     },
     "execution_count": 9,
     "metadata": {},
     "output_type": "execute_result"
    }
   ],
   "source": [
    "# Query 2: Creating a VIEW displaying the names, contact details, and patient number of the female patients\n",
    "cur.execute(\"\"\"\n",
    "    CREATE VIEW IF NOT EXISTS FemalePatientsDetails (Patient_ID, First_Name, Last_Name, Contact_Number, Email) AS\n",
    "    SELECT ptID, firstName, lastName, contactNo, email\n",
    "    FROM patient\n",
    "    WHERE sex = 'F';\n",
    "\"\"\")\n",
    "conn.commit()\n",
    "\n",
    "res = res.execute(\"SELECT * FROM FemalePatientsDetails;\")\n",
    "res.fetchall()"
   ]
  },
  {
   "cell_type": "code",
   "execution_count": 10,
   "id": "b229a329-0556-44d4-800a-1c6feaebab97",
   "metadata": {},
   "outputs": [
    {
     "data": {
      "text/plain": [
       "[(1,\n",
       "  'Smith',\n",
       "  'Jane',\n",
       "  1,\n",
       "  '2023-01-05',\n",
       "  'Normal',\n",
       "  'Normal',\n",
       "  'Negative',\n",
       "  'Negative',\n",
       "  'Negative',\n",
       "  'Negative',\n",
       "  'Not performed',\n",
       "  'Normal',\n",
       "  'Negative',\n",
       "  'Normal',\n",
       "  'Normal',\n",
       "  'Normal',\n",
       "  'Negative',\n",
       "  'Not performed'),\n",
       " (2,\n",
       "  'Brown',\n",
       "  'Emily',\n",
       "  5,\n",
       "  '2023-02-10',\n",
       "  'Normal',\n",
       "  'Abnormal',\n",
       "  'Positive',\n",
       "  'Negative',\n",
       "  'Negative',\n",
       "  'Negative',\n",
       "  'Chlamydia',\n",
       "  'Normal',\n",
       "  'Negative',\n",
       "  'Abnormal',\n",
       "  'Normal',\n",
       "  'Abnormal',\n",
       "  'Negative',\n",
       "  'Not performed'),\n",
       " (3,\n",
       "  'Garcia',\n",
       "  'Sarah',\n",
       "  7,\n",
       "  '2023-03-15',\n",
       "  'Normal',\n",
       "  'Normal',\n",
       "  'Negative',\n",
       "  'Negative',\n",
       "  'Negative',\n",
       "  'Negative',\n",
       "  'Not performed',\n",
       "  'Normal',\n",
       "  'Negative',\n",
       "  'Normal',\n",
       "  'Normal',\n",
       "  'Normal',\n",
       "  'Negative',\n",
       "  'Not performed'),\n",
       " (4,\n",
       "  'Nguyen',\n",
       "  'Olivia',\n",
       "  9,\n",
       "  '2023-04-20',\n",
       "  'Normal',\n",
       "  'Abnormal',\n",
       "  'Negative',\n",
       "  'Negative',\n",
       "  'Negative',\n",
       "  'Positive',\n",
       "  'Gonorrhea',\n",
       "  'Normal',\n",
       "  'Negative',\n",
       "  'Normal',\n",
       "  'Normal',\n",
       "  'Normal',\n",
       "  'Negative',\n",
       "  'Not performed'),\n",
       " (5,\n",
       "  'Hernandez',\n",
       "  'Ava',\n",
       "  2,\n",
       "  '2023-05-25',\n",
       "  'Normal',\n",
       "  'Normal',\n",
       "  'Negative',\n",
       "  'Negative',\n",
       "  'Negative',\n",
       "  'Negative',\n",
       "  'Not performed',\n",
       "  'Normal',\n",
       "  'Negative',\n",
       "  'Normal',\n",
       "  'Normal',\n",
       "  'Normal',\n",
       "  'Negative',\n",
       "  'Not performed')]"
      ]
     },
     "execution_count": 10,
     "metadata": {},
     "output_type": "execute_result"
    }
   ],
   "source": [
    "# Query 3: Displaying the lab test records of the female patients in the database\n",
    "res = cur.execute(\"\"\"\n",
    "    SELECT lab.labNo, p.lastName, p.firstName, lab.staffID, lab.date,\n",
    "           lab.completeBloodCount, lab.urinalysis, lab.urineCulture,\n",
    "           lab.rubellaTest, lab.hepatitisBTest, lab.HIVtest,\n",
    "           lab.STItest, lab.papSmear, lab.TBtest,\n",
    "           lab.ultrasound, lab.maternalSerumScreeningTest, lab.glucoseChallengeTest,\n",
    "           lab.groupBStrepTest, lab.fetalMonitoring\n",
    "    FROM labRecord AS lab\n",
    "    JOIN patient AS p ON lab.ptID = p.ptID\n",
    "    WHERE p.sex = 'F';\n",
    "\"\"\")\n",
    "res.fetchall()"
   ]
  },
  {
   "cell_type": "code",
   "execution_count": 11,
   "id": "e84c60cc-0837-42d3-a90b-90fe88287da7",
   "metadata": {},
   "outputs": [
    {
     "data": {
      "text/plain": [
       "[(2, 'Emily', 'Johnson', 10, 'Ava', 'Hernandez')]"
      ]
     },
     "execution_count": 11,
     "metadata": {},
     "output_type": "execute_result"
    }
   ],
   "source": [
    "# Query 4: Displaying the female staff members and their respective female patients\n",
    "res = cur.execute(\"\"\"\n",
    "    SELECT s.staffID, s.firstName AS StaffFirstName, s.lastName AS StaffLastName,\n",
    "           p.ptID, p.firstName AS PatientFirstName, p.lastName AS PatientLastName\n",
    "    FROM staff AS s\n",
    "    JOIN prenatalCareRecord AS pcr ON s.staffID = pcr.staffID\n",
    "    JOIN patient AS p ON pcr.ptID = p.ptID\n",
    "    WHERE s.sex = 'F' AND p.sex = 'F';\n",
    "\"\"\")\n",
    "res.fetchall()"
   ]
  },
  {
   "cell_type": "code",
   "execution_count": 12,
   "id": "1252b157-260e-48d3-bfe7-8ea8529b1d91",
   "metadata": {},
   "outputs": [
    {
     "data": {
      "text/plain": [
       "[(1, 'Michael', 'Smith'), (6, 'Ava', 'Martinez')]"
      ]
     },
     "execution_count": 12,
     "metadata": {},
     "output_type": "execute_result"
    }
   ],
   "source": [
    "# Query 5: Displaying all the OB-GYN doctors in the staff table\n",
    "res = cur.execute(\"\"\"\n",
    "    SELECT staffID, firstName, lastName\n",
    "    FROM staff\n",
    "    WHERE jobTitle = 'Physician' AND dept = 'OB-GYN';\n",
    "\"\"\")\n",
    "res.fetchall()"
   ]
  },
  {
   "cell_type": "code",
   "execution_count": 13,
   "id": "6ce56347-03bc-45d9-bb23-93a86c067166",
   "metadata": {},
   "outputs": [
    {
     "data": {
      "text/plain": [
       "[('Jane',\n",
       "  'Smith',\n",
       "  '28 weeks pregnant, no complications reported.',\n",
       "  'Ferrous Sulfate, Prenatal Vitamins',\n",
       "  'Michael',\n",
       "  'Smith',\n",
       "  'Physician'),\n",
       " ('Emily',\n",
       "  'Brown',\n",
       "  '32 weeks pregnant, complained of occasional nausea.',\n",
       "  'Ondansetron, Nitrofurantoin',\n",
       "  'Oliver',\n",
       "  'Garcia',\n",
       "  'Pharmacist'),\n",
       " ('Sarah',\n",
       "  'Garcia',\n",
       "  '35 weeks pregnant, reported swelling in ankles.',\n",
       "  'Acetaminophen',\n",
       "  'Ethan',\n",
       "  'Lee',\n",
       "  'Nurse'),\n",
       " ('Olivia',\n",
       "  'Nguyen',\n",
       "  '38 weeks pregnant, experiencing lower back pain.',\n",
       "  'Prenatal Massage Oil',\n",
       "  'William',\n",
       "  'Rodriguez',\n",
       "  'Pharmacist'),\n",
       " ('Ava',\n",
       "  'Hernandez',\n",
       "  '40 weeks pregnant, no signs of labor.',\n",
       "  'Misoprostol',\n",
       "  'Emily',\n",
       "  'Johnson',\n",
       "  'Nurse')]"
      ]
     },
     "execution_count": 13,
     "metadata": {},
     "output_type": "execute_result"
    }
   ],
   "source": [
    "# Query 6 Displaying all the patients subjective information, medications, and clinicians\n",
    "res = cur.execute(\"\"\"\n",
    "    SELECT p.firstName AS PatientFirstName, p.lastName AS PatientLastName, \n",
    "        pcr.subjInfo AS SubjectiveInfo, pr.drugList AS Medication, \n",
    "        s.firstName AS StaffFirstName, s.lastName AS StaffLastName, s.jobTitle\n",
    "    FROM patient AS p\n",
    "    JOIN prenatalCareRecord AS pcr ON p.ptID = pcr.ptID\n",
    "    JOIN prescription AS pr ON p.ptID = pr.ptID\n",
    "    JOIN staff AS s ON pcr.staffID = s.staffID;\n",
    "\"\"\")\n",
    "res.fetchall()"
   ]
  },
  {
   "cell_type": "code",
   "execution_count": 14,
   "id": "a58c7d7e-ce75-4f76-a9c3-df3f761c2a90",
   "metadata": {},
   "outputs": [
    {
     "data": {
      "text/plain": [
       "[('Michael', 'Wang', '1975-07-03')]"
      ]
     },
     "execution_count": 14,
     "metadata": {},
     "output_type": "execute_result"
    }
   ],
   "source": [
    "# Query 7: Displaying the oldest patient in the database\n",
    "res = cur.execute(\"\"\"\n",
    "    SELECT firstName, lastName, birthDate\n",
    "    FROM patient\n",
    "    ORDER BY birthDate ASC\n",
    "    LIMIT 1;\n",
    "\"\"\")\n",
    "res.fetchall()"
   ]
  },
  {
   "cell_type": "code",
   "execution_count": 15,
   "id": "1a1955e2-5f1c-4433-9ae8-c9aa6301feb2",
   "metadata": {},
   "outputs": [
    {
     "data": {
      "text/plain": [
       "[('Jane', 'Smith', 1),\n",
       " ('Emily', 'Brown', 1),\n",
       " ('Sarah', 'Garcia', 1),\n",
       " ('Olivia', 'Nguyen', 1),\n",
       " ('Ava', 'Hernandez', 1)]"
      ]
     },
     "execution_count": 15,
     "metadata": {},
     "output_type": "execute_result"
    }
   ],
   "source": [
    "# Query 8: Displaying the number of tests done for each pregnant patient in the database\n",
    "res = cur.execute(\"\"\"\n",
    "    SELECT p.firstName, p.lastName, COUNT(lab.labNo) AS NumTests\n",
    "    FROM patient AS p\n",
    "    LEFT JOIN labRecord AS lab ON p.ptID = lab.ptID\n",
    "    WHERE p.ptID IN (SELECT ptID FROM prenatalCareRecord)\n",
    "    GROUP BY p.ptID\n",
    "    ORDER BY NumTests DESC;\n",
    "\"\"\")\n",
    "res.fetchall()"
   ]
  },
  {
   "cell_type": "code",
   "execution_count": 16,
   "id": "4b18cc54-1b09-44e8-847b-a6acc41b1c76",
   "metadata": {},
   "outputs": [
    {
     "data": {
      "text/plain": [
       "[('Emily', 'Brown', 'Positive')]"
      ]
     },
     "execution_count": 16,
     "metadata": {},
     "output_type": "execute_result"
    }
   ],
   "source": [
    "# Query 9: Displaying the pregnant patient with positive urine culture\n",
    "res = cur.execute(\"\"\"\n",
    "    SELECT p.firstName, p.lastName, lab.urineCulture AS UrineCultureResult\n",
    "    FROM patient AS p\n",
    "    JOIN labRecord AS lab ON p.ptID = lab.ptID\n",
    "    WHERE p.ptID IN (SELECT ptID FROM prenatalCareRecord)\n",
    "      AND lab.urineCulture IN ('Abnormal', 'Positive')\n",
    "    ORDER BY p.lastName, p.firstName;\n",
    "\"\"\")\n",
    "res.fetchall()"
   ]
  },
  {
   "cell_type": "code",
   "execution_count": 17,
   "id": "6b66f7ef-4d34-4c05-950e-b131bb74f4cd",
   "metadata": {},
   "outputs": [
    {
     "data": {
      "text/plain": [
       "[('Emily', 'Brown', 'Ondansetron, Nitrofurantoin')]"
      ]
     },
     "execution_count": 17,
     "metadata": {},
     "output_type": "execute_result"
    }
   ],
   "source": [
    "# Query 10: Displaying the medications given to the patient with positive urine culture\n",
    "res = cur.execute(\"\"\"\n",
    "    SELECT DISTINCT p.firstName, p.lastName, pr.drugList AS Medications\n",
    "    FROM patient AS p\n",
    "    JOIN labRecord AS lab ON p.ptID = lab.ptID\n",
    "    JOIN prescription AS pr ON p.ptID = pr.ptID\n",
    "    WHERE lab.urineCulture IN ('Abnormal', 'Positive')\n",
    "      AND pr.drugList IS NOT NULL;\n",
    "\"\"\")\n",
    "res.fetchall()"
   ]
  },
  {
   "cell_type": "code",
   "execution_count": 18,
   "id": "709bf045-359c-4a21-8333-b6f5ee80a1c8",
   "metadata": {},
   "outputs": [],
   "source": [
    "cur.close()\n",
    "conn.close()"
   ]
  }
 ],
 "metadata": {
  "kernelspec": {
   "display_name": "Python 3 (ipykernel)",
   "language": "python",
   "name": "python3"
  },
  "language_info": {
   "codemirror_mode": {
    "name": "ipython",
    "version": 3
   },
   "file_extension": ".py",
   "mimetype": "text/x-python",
   "name": "python",
   "nbconvert_exporter": "python",
   "pygments_lexer": "ipython3",
   "version": "3.10.9"
  }
 },
 "nbformat": 4,
 "nbformat_minor": 5
}
